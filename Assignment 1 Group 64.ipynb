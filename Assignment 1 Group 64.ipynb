{
 "cells": [
  {
   "cell_type": "markdown",
   "metadata": {},
   "source": [
    "# Assignment 1\n",
    "## (Period 4): binary and multinomial data"
   ]
  },
  {
   "cell_type": "code",
   "execution_count": 22,
   "metadata": {},
   "outputs": [],
   "source": [
    "import pandas as pd\n",
    "import numpy as np\n",
    "import statsmodels.api as sm\n",
    "import matplotlib.pyplot as plt\n",
    "from statsmodels.genmod.families.links import LogLog\n",
    "from statsmodels.miscmodels.ordinal_model import OrderedModel\n",
    "from scipy.stats import t\n",
    "import scipy.optimize as opt"
   ]
  },
  {
   "cell_type": "markdown",
   "metadata": {},
   "source": [
    "### Part A: Binary Data"
   ]
  },
  {
   "cell_type": "markdown",
   "metadata": {},
   "source": [
    "#### (1a) Deriving the Conditional Probabilities\n",
    "\n",
    "We start with the latent variable model:\n",
    "$$\n",
    "y_i^* = x_i' \\beta + e_i,\n",
    "$$\n",
    "and the observed binary outcome:\n",
    "$$\n",
    "y_i = I\\{y_i^* > 0\\}.\n",
    "$$\n",
    "\n",
    "The probability that $ y_i = 1 $ given $ x_i $ is:\n",
    "$$\n",
    "\\Pr(y_i = 1 \\mid x_i) = \\Pr(y_i^* > 0 \\mid x_i) = \\Pr(x_i'\\beta + e_i > 0 \\mid x_i).\n",
    "$$\n",
    "\n",
    "Rearranging the inequality, we obtain:\n",
    "$$\n",
    "\\Pr(x_i'\\beta + e_i > 0 \\mid x_i) = \\Pr(e_i > -x_i'\\beta).\n",
    "$$\n",
    "\n",
    "Given the cumulative distribution function $ G(a) = \\Pr(e_i \\leq a) $, we have:\n",
    "$$\n",
    "\\Pr(e_i > -x_i'\\beta) = 1 - \\Pr(e_i \\leq -x_i'\\beta) = 1 - G(-x_i'\\beta).\n",
    "$$\n",
    "\n",
    "Thus,\n",
    "$$\n",
    "\\boxed{\\Pr(y_i = 1 \\mid x_i) = 1 - G(-x_i'\\beta).}\n",
    "$$\n",
    "\n",
    "Similarly, for $ y_i = 0 $:\n",
    "$$\n",
    "\\Pr(y_i = 0 \\mid x_i) = \\Pr(y_i^* \\leq 0 \\mid x_i) = G(-x_i'\\beta),\n",
    "$$\n",
    "so that:\n",
    "$$\n",
    "\\boxed{\\Pr(y_i = 0 \\mid x_i) = G(-x_i'\\beta).}\n",
    "$$\n"
   ]
  },
  {
   "cell_type": "markdown",
   "metadata": {},
   "source": [
    "#### (1b) Deriving the Log-Likelihood\n",
    "\n",
    "Assuming that the \\( n \\) observations are independent, the joint probability (likelihood) of observing the sample ${(y_i)}_{i=1}^n $ given the covariates ${(x_i)}_{i=1}^n $ is the product of the individual probabilities:\n",
    "$$\n",
    "p(y_1, \\dots, y_n \\mid x_1, \\dots, x_n) = \\prod_{i=1}^{n} \\Pr(y_i \\mid x_i).\n",
    "$$\n",
    "\n",
    "For each observation, we have:\n",
    "$$\n",
    "\\Pr(y_i \\mid x_i) = \\left[1 - G(-x_i'\\beta)\\right]^{y_i} \\, \\left[G(-x_i'\\beta)\\right]^{1-y_i}.\n",
    "$$\n",
    "\n",
    "Taking the logarithm gives the log-likelihood function:\n",
    "$$\n",
    "\\ln L(\\beta) = \\sum_{i=1}^{n} \\left\\{ y_i \\ln\\left[1 - G(-x_i'\\beta)\\right] + (1-y_i) \\ln\\left[G(-x_i'\\beta)\\right] \\right\\}.\n",
    "$$\n",
    "\n",
    "Thus, the final log-likelihood is:\n",
    "$$\n",
    "\\boxed{\\ln L(\\beta) = \\sum_{i=1}^{n} \\left[ y_i \\ln\\left(1 - G(-x_i'\\beta)\\right) + (1-y_i) \\ln\\left(G(-x_i'\\beta)\\right) \\right].}\n",
    "$$\n"
   ]
  },
  {
   "cell_type": "code",
   "execution_count": 2,
   "metadata": {},
   "outputs": [
    {
     "name": "stdout",
     "output_type": "stream",
     "text": [
      "   Y  X1\n",
      "0  1  18\n",
      "1  0  19\n",
      "2  0   9\n",
      "3  0   9\n",
      "4  1  20\n"
     ]
    }
   ],
   "source": [
    "# Load\n",
    "data = pd.read_excel(\"data/BinaryData64.xlsx\")\n",
    "print(data.head())"
   ]
  },
  {
   "cell_type": "markdown",
   "metadata": {},
   "source": [
    "#### 1c) Models"
   ]
  },
  {
   "cell_type": "markdown",
   "metadata": {},
   "source": [
    "##### (a) Binary Logit"
   ]
  },
  {
   "cell_type": "code",
   "execution_count": 3,
   "metadata": {},
   "outputs": [
    {
     "name": "stdout",
     "output_type": "stream",
     "text": [
      "Optimization terminated successfully.\n",
      "         Current function value: 0.178349\n",
      "         Iterations 9\n",
      "                           Logit Regression Results                           \n",
      "==============================================================================\n",
      "Dep. Variable:                      Y   No. Observations:                 1500\n",
      "Model:                          Logit   Df Residuals:                     1498\n",
      "Method:                           MLE   Df Model:                            1\n",
      "Date:                Thu, 27 Feb 2025   Pseudo R-squ.:                  0.7262\n",
      "Time:                        15:07:16   Log-Likelihood:                -267.52\n",
      "converged:                       True   LL-Null:                       -977.21\n",
      "Covariance Type:            nonrobust   LLR p-value:                1.291e-310\n",
      "==============================================================================\n",
      "                 coef    std err          z      P>|z|      [0.025      0.975]\n",
      "------------------------------------------------------------------------------\n",
      "const        -19.6868      1.209    -16.278      0.000     -22.057     -17.316\n",
      "X1             1.0851      0.066     16.363      0.000       0.955       1.215\n",
      "==============================================================================\n"
     ]
    }
   ],
   "source": [
    "# Prepare the data\n",
    "data['const'] = 1\n",
    "X = data[['const', 'X1']]\n",
    "Y = data['Y']\n",
    "\n",
    "# Fit the logit model\n",
    "logit_model = sm.Logit(Y, X).fit()\n",
    "print(logit_model.summary())\n"
   ]
  },
  {
   "cell_type": "markdown",
   "metadata": {},
   "source": [
    "##### (b) Binary Probit"
   ]
  },
  {
   "cell_type": "code",
   "execution_count": 4,
   "metadata": {},
   "outputs": [
    {
     "name": "stdout",
     "output_type": "stream",
     "text": [
      "Optimization terminated successfully.\n",
      "         Current function value: 0.178016\n",
      "         Iterations 9\n",
      "                          Probit Regression Results                           \n",
      "==============================================================================\n",
      "Dep. Variable:                      Y   No. Observations:                 1500\n",
      "Model:                         Probit   Df Residuals:                     1498\n",
      "Method:                           MLE   Df Model:                            1\n",
      "Date:                Thu, 27 Feb 2025   Pseudo R-squ.:                  0.7267\n",
      "Time:                        15:07:16   Log-Likelihood:                -267.02\n",
      "converged:                       True   LL-Null:                       -977.21\n",
      "Covariance Type:            nonrobust   LLR p-value:                7.831e-311\n",
      "==============================================================================\n",
      "                 coef    std err          z      P>|z|      [0.025      0.975]\n",
      "------------------------------------------------------------------------------\n",
      "const        -10.8054      0.593    -18.211      0.000     -11.968      -9.642\n",
      "X1             0.5977      0.033     18.251      0.000       0.533       0.662\n",
      "==============================================================================\n",
      "\n",
      "Possibly complete quasi-separation: A fraction 0.24 of observations can be\n",
      "perfectly predicted. This might indicate that there is complete\n",
      "quasi-separation. In this case some parameters will not be identified.\n"
     ]
    }
   ],
   "source": [
    "probit_model = sm.Probit(Y, X).fit()\n",
    "print(probit_model.summary())\n"
   ]
  },
  {
   "cell_type": "markdown",
   "metadata": {},
   "source": [
    "##### (c) Gompit (Complementary Log-Log)"
   ]
  },
  {
   "cell_type": "code",
   "execution_count": 5,
   "metadata": {},
   "outputs": [
    {
     "name": "stdout",
     "output_type": "stream",
     "text": [
      "                 Generalized Linear Model Regression Results                  \n",
      "==============================================================================\n",
      "Dep. Variable:                      Y   No. Observations:                 1500\n",
      "Model:                            GLM   Df Residuals:                     1498\n",
      "Model Family:                Binomial   Df Model:                            1\n",
      "Link Function:                cloglog   Scale:                          1.0000\n",
      "Method:                          IRLS   Log-Likelihood:                -257.61\n",
      "Date:                Thu, 27 Feb 2025   Deviance:                       515.23\n",
      "Time:                        15:07:16   Pearson chi2:                     740.\n",
      "No. Iterations:                     9   Pseudo R-squ. (CS):             0.6169\n",
      "Covariance Type:            nonrobust                                         \n",
      "==============================================================================\n",
      "                 coef    std err          z      P>|z|      [0.025      0.975]\n",
      "------------------------------------------------------------------------------\n",
      "const        -14.8403      0.866    -17.131      0.000     -16.538     -13.142\n",
      "X1             0.7860      0.046     17.052      0.000       0.696       0.876\n",
      "==============================================================================\n"
     ]
    },
    {
     "name": "stderr",
     "output_type": "stream",
     "text": [
      "c:\\Users\\b.hirs\\AppData\\Local\\Programs\\Python\\Python312\\Lib\\site-packages\\statsmodels\\genmod\\families\\links.py:13: FutureWarning: The cloglog link alias is deprecated. Use CLogLog instead. The cloglog link alias will be removed after the 0.15.0 release.\n",
      "  warnings.warn(\n"
     ]
    }
   ],
   "source": [
    "cloglog_model = sm.GLM(Y, X, family=sm.families.Binomial(sm.families.links.cloglog())).fit()\n",
    "print(cloglog_model.summary())\n"
   ]
  },
  {
   "cell_type": "markdown",
   "metadata": {},
   "source": [
    "##### (d) Log-Log Model"
   ]
  },
  {
   "cell_type": "code",
   "execution_count": 6,
   "metadata": {},
   "outputs": [
    {
     "name": "stdout",
     "output_type": "stream",
     "text": [
      "                 Generalized Linear Model Regression Results                  \n",
      "==============================================================================\n",
      "Dep. Variable:                      Y   No. Observations:                 1500\n",
      "Model:                            GLM   Df Residuals:                     1498\n",
      "Model Family:                Binomial   Df Model:                            1\n",
      "Link Function:                 LogLog   Scale:                          1.0000\n",
      "Method:                          IRLS   Log-Likelihood:                -294.46\n",
      "Date:                Thu, 27 Feb 2025   Deviance:                       588.92\n",
      "Time:                        15:07:16   Pearson chi2:                 5.24e+04\n",
      "No. Iterations:                    15   Pseudo R-squ. (CS):             0.5976\n",
      "Covariance Type:            nonrobust                                         \n",
      "==============================================================================\n",
      "                 coef    std err          z      P>|z|      [0.025      0.975]\n",
      "------------------------------------------------------------------------------\n",
      "const         -9.9551      0.565    -17.623      0.000     -11.062      -8.848\n",
      "X1             0.5824      0.032     17.932      0.000       0.519       0.646\n",
      "==============================================================================\n"
     ]
    }
   ],
   "source": [
    "loglog_model = sm.GLM(Y, X, family=sm.families.Binomial(link=LogLog())).fit()\n",
    "print(loglog_model.summary())"
   ]
  },
  {
   "cell_type": "markdown",
   "metadata": {},
   "source": [
    "##### (e) Gosset Model"
   ]
  },
  {
   "cell_type": "code",
   "execution_count": 7,
   "metadata": {},
   "outputs": [
    {
     "name": "stdout",
     "output_type": "stream",
     "text": [
      "Gosset model parameters: [-15.75770525   0.86506223]\n",
      "Gosset log-likelihood: -272.08959507495007\n"
     ]
    }
   ],
   "source": [
    "# Fixed degrees of freedom\n",
    "nu = 3\n",
    "\n",
    "def gosset_loglike(params, Y, X):\n",
    "    beta = params\n",
    "    xb = np.dot(X, beta)\n",
    "    # Compute probability using the Student's t CDF\n",
    "    prob = 1 - t.cdf(-xb, df=nu)\n",
    "    # Avoid numerical issues\n",
    "    prob = np.clip(prob, 1e-8, 1-1e-8)\n",
    "    ll = Y * np.log(prob) + (1 - Y) * np.log(1 - prob)\n",
    "    # Return negative log-likelihood for minimization\n",
    "    return -np.sum(ll)\n",
    "\n",
    "# Initial parameter guess (zero vector)\n",
    "init_params = np.zeros(X.shape[1])\n",
    "\n",
    "# Optimize the negative log-likelihood\n",
    "gosset_results = opt.minimize(gosset_loglike, init_params, args=(Y, X))\n",
    "print(\"Gosset model parameters:\", gosset_results.x)\n",
    "print(\"Gosset log-likelihood:\", -gosset_results.fun)"
   ]
  },
  {
   "cell_type": "markdown",
   "metadata": {},
   "source": [
    "##### Log-Likelihood, AIC, and BIC for Models Estimated with Statsmodels"
   ]
  },
  {
   "cell_type": "code",
   "execution_count": 8,
   "metadata": {},
   "outputs": [
    {
     "name": "stdout",
     "output_type": "stream",
     "text": [
      "Logit Log-Likelihood: -267.5236205758456\n",
      "Logit AIC: 539.0472411516912\n",
      "Logit BIC: 549.6736819258718\n",
      "Probit Log-Likelihood: -267.0242703186838\n",
      "Probit AIC: 538.0485406373676\n",
      "Probit BIC: 548.6749814115483\n",
      "Cloglog Log-Likelihood: -257.61410167383565\n",
      "Cloglog AIC: 519.2282033476713\n",
      "Loglog Log-Likelihood: -294.46007447317027\n",
      "Loglog AIC: 592.9201489463405\n"
     ]
    }
   ],
   "source": [
    "print(\"Logit Log-Likelihood:\", logit_model.llf)\n",
    "print(\"Logit AIC:\", logit_model.aic)\n",
    "print(\"Logit BIC:\", logit_model.bic)\n",
    "\n",
    "print(\"Probit Log-Likelihood:\", probit_model.llf)\n",
    "print(\"Probit AIC:\", probit_model.aic)\n",
    "print(\"Probit BIC:\", probit_model.bic)\n",
    "\n",
    "print(\"Cloglog Log-Likelihood:\", cloglog_model.llf)\n",
    "print(\"Cloglog AIC:\", cloglog_model.aic)\n",
    "\n",
    "print(\"Loglog Log-Likelihood:\", loglog_model.llf)\n",
    "print(\"Loglog AIC:\", loglog_model.aic)\n",
    "\n"
   ]
  },
  {
   "cell_type": "code",
   "execution_count": 9,
   "metadata": {},
   "outputs": [
    {
     "name": "stdout",
     "output_type": "stream",
     "text": [
      "Cloglog BIC: 529.854644121852\n",
      "Loglog BIC: 603.5465897205212\n"
     ]
    }
   ],
   "source": [
    "n = len(Y)\n",
    "k = X.shape[1]\n",
    "manual_bic_cloglog = k * np.log(n) - 2 * cloglog_model.llf\n",
    "manual_bic_loglog = k * np.log(n) - 2 * loglog_model.llf\n",
    "\n",
    "print(\"Cloglog BIC:\", manual_bic_cloglog)\n",
    "print(\"Loglog BIC:\", manual_bic_loglog)"
   ]
  },
  {
   "cell_type": "markdown",
   "metadata": {},
   "source": [
    "##### AIC and BIC for the Gosset Model"
   ]
  },
  {
   "cell_type": "code",
   "execution_count": 10,
   "metadata": {},
   "outputs": [
    {
     "name": "stdout",
     "output_type": "stream",
     "text": [
      "Gosset Log-Likelihood: -272.08959507495007\n",
      "Gosset AIC: 548.1791901499001\n",
      "Gosset BIC: 558.8056309240808\n"
     ]
    }
   ],
   "source": [
    "LL_gosset = -gosset_results.fun\n",
    "k = len(gosset_results.x)\n",
    "n = len(Y)\n",
    "AIC_gosset = 2 * k - 2 * LL_gosset\n",
    "BIC_gosset = k * np.log(n) - 2 * LL_gosset\n",
    "\n",
    "print(\"Gosset Log-Likelihood:\", LL_gosset)\n",
    "print(\"Gosset AIC:\", AIC_gosset)\n",
    "print(\"Gosset BIC:\", BIC_gosset)\n"
   ]
  },
  {
   "cell_type": "markdown",
   "metadata": {},
   "source": [
    "##### Percentage Correctly Predicted"
   ]
  },
  {
   "cell_type": "code",
   "execution_count": 11,
   "metadata": {},
   "outputs": [
    {
     "name": "stdout",
     "output_type": "stream",
     "text": [
      "Logit percentage correctly predicted: 92.40%\n",
      "Probit percentage correctly predicted: 92.40%\n",
      "Cloglog percentage correctly predicted: 92.40%\n",
      "Log-Log percentage correctly predicted: 90.93%\n",
      "Gosset percentage correctly predicted: 92.40%\n"
     ]
    }
   ],
   "source": [
    "# Logit \n",
    "data['pred_logit'] = logit_model.predict(X)\n",
    "data['pred_logit_class'] = (data['pred_logit'] >= 0.5).astype(int)\n",
    "accuracy_logit = np.mean(data['pred_logit_class'] == Y)\n",
    "print(\"Logit percentage correctly predicted: {:.2f}%\".format(accuracy_logit * 100))\n",
    "\n",
    "# Probit \n",
    "data['pred_probit'] = probit_model.predict(X)\n",
    "data['pred_probit_class'] = (data['pred_probit'] >= 0.5).astype(int)\n",
    "accuracy_probit = np.mean(data['pred_probit_class'] == Y)\n",
    "print(\"Probit percentage correctly predicted: {:.2f}%\".format(accuracy_probit * 100))\n",
    "\n",
    "# Cloglog \n",
    "data['pred_cloglog'] = cloglog_model.predict(X)\n",
    "data['pred_cloglog_class'] = (data['pred_cloglog'] >= 0.5).astype(int)\n",
    "accuracy_cloglog = np.mean(data['pred_cloglog_class'] == Y)\n",
    "print(\"Cloglog percentage correctly predicted: {:.2f}%\".format(accuracy_cloglog * 100))\n",
    "\n",
    "# Log-Log \n",
    "data['pred_loglog'] = loglog_model.predict(X)\n",
    "data['pred_loglog_class'] = (data['pred_loglog'] >= 0.5).astype(int)\n",
    "accuracy_loglog = np.mean(data['pred_loglog_class'] == Y)\n",
    "print(\"Log-Log percentage correctly predicted: {:.2f}%\".format(accuracy_loglog * 100))\n",
    "\n",
    "# Gosset \n",
    "#  predicted probabilities t-distribution CDF and the estimated parameters.\n",
    "xb_gosset = np.dot(X, gosset_results.x)\n",
    "pred_gosset = 1 - t.cdf(-xb_gosset, df=nu)\n",
    "data['pred_gosset'] = pred_gosset\n",
    "data['pred_gosset_class'] = (data['pred_gosset'] >= 0.5).astype(int)\n",
    "accuracy_gosset = np.mean(data['pred_gosset_class'] == Y)\n",
    "print(\"Gosset percentage correctly predicted: {:.2f}%\".format(accuracy_gosset * 100))\n"
   ]
  },
  {
   "cell_type": "markdown",
   "metadata": {},
   "source": [
    "#### Model Comparison and Interpretation\n",
    "\n",
    "- **Best Model:**  \n",
    "  The cloglog (complementary log-log) model exhibits the best performance. It has the highest (least negative) log-likelihood **(-257.61)**, the lowest AIC **(519.23)** and BIC **(529.85)**, and a classification accuracy of 92.40%. This suggests that the cloglog model provides the best fit to the data.\n",
    "\n",
    "- **Worst Model:**  \n",
    "  The log-log model has the worst performance, with the lowest log-likelihood **(-294.46)**, the highest AIC **(592.92)** and BIC **(603.55)**, and a slightly lower classification accuracy **(90.93%)**.\n",
    "\n",
    "- **Positive vs. Negative Surprises:**  \n",
    "  The cloglog model is well-suited for cases where the error distribution is positively skewed, as in the Gumbel distribution. This implies that even at low values of \\(X1\\) (years of education), there is a non-negligible probability of \\(Y=1\\) (management job) due to extreme positive deviations in the error term—what we call **positive surprises**. On the other hand, very high values of \\(X1\\) do not translate into very low probabilities of \\(Y=1\\) because the error term does not allow for extreme negative values, indicating an absence of **negative surprises**.\n",
    "\n",
    "In summary, the cloglog model is the best, the log-log model is the worst, and the results suggest the presence of **positive surprises** in the data.\n",
    "\n"
   ]
  },
  {
   "cell_type": "code",
   "execution_count": null,
   "metadata": {},
   "outputs": [
    {
     "data": {
      "image/png": "[encoded data removed]",
      "text/plain": [
       "<Figure size 800x600 with 1 Axes>"
      ]
     },
     "metadata": {},
     "output_type": "display_data"
    }
   ],
   "source": [
    "#Estimated prob\n",
    "x1_grid = np.linspace(data['X1'].min(), data['X1'].max(), 100)\n",
    "# Construct the design matrix for predictions\n",
    "X_grid = pd.DataFrame({'const': 1, 'X1': x1_grid})\n",
    "\n",
    "# Predict probabilities cloglog model.\n",
    "pred_probs_cloglog = cloglog_model.predict(X_grid)\n",
    "\n",
    "# Plot \n",
    "plt.figure(figsize=(8, 6))\n",
    "plt.plot(x1_grid, pred_probs_cloglog, label=\"Estimated Probability (Cloglog)\", color=\"blue\")\n",
    "plt.xlabel(\"Years of Education (X1)\")\n",
    "plt.ylabel(\"P(Y=1 | X1)\")\n",
    "plt.title(\"Estimated Probability of Management Job (Cloglog Model)\")\n",
    "plt.legend()\n",
    "plt.grid(True)\n",
    "plt.show()"
   ]
  },
  {
   "cell_type": "code",
   "execution_count": 33,
   "metadata": {},
   "outputs": [],
   "source": [
    "## Possible\n",
    "# (b) Compute the Partial Effect at the Average (PEA)\n",
    "# For the cloglog link, the inverse link is:\n",
    "#    p = 1 - exp(-exp(z))   with z = X * beta.\n",
    "# Its derivative with respect to z is:\n",
    "#    dp/dz = exp(z - exp(z))\n",
    "# The marginal effect for X1 is:\n",
    "#    ∂p/∂X1 = [exp(z - exp(z))] * beta_1\n"
   ]
  },
  {
   "cell_type": "code",
   "execution_count": null,
   "metadata": {},
   "outputs": [
    {
     "name": "stdout",
     "output_type": "stream",
     "text": [
      "Partial Effect at the Average (PEA): 0.0643\n"
     ]
    }
   ],
   "source": [
    "# Extract the estimated parameters.\n",
    "beta_hat = cloglog_model.params.values\n",
    "\n",
    "# Compute the average of X1.\n",
    "x1_avg = data['X1'].mean()\n",
    "X_avg = np.array([1, x1_avg])\n",
    "z_avg = np.dot(X_avg, beta_hat)\n",
    "# Compute the derivative at the average.\n",
    "density_avg = np.exp(z_avg - np.exp(z_avg))\n",
    "# PEA\n",
    "PEA = density_avg * beta_hat[1]\n",
    "print(\"Partial Effect at the Average (PEA): {:.4f}\".format(PEA))"
   ]
  },
  {
   "cell_type": "code",
   "execution_count": 14,
   "metadata": {},
   "outputs": [
    {
     "name": "stdout",
     "output_type": "stream",
     "text": [
      "Average Partial Effect (APE): 0.0589\n"
     ]
    }
   ],
   "source": [
    "# Compute the linear predictor for each observation.\n",
    "z_all = np.dot(X, beta_hat)\n",
    "density_all = np.exp(z_all - np.exp(z_all))\n",
    "marginal_effects = density_all * beta_hat[1]\n",
    "# APE\n",
    "APE = np.mean(marginal_effects)\n",
    "print(\"Average Partial Effect (APE): {:.4f}\".format(APE))"
   ]
  },
  {
   "cell_type": "markdown",
   "metadata": {},
   "source": [
    "##### Interpretation of PEA and APE\n",
    "\n",
    "- **Partial Effect at the Average (PEA): 0.0643**  \n",
    "  This means that when \\(X1\\) (years of education) is at its average value, a one-unit increase in education is associated with an approximate 6.43 percentage point increase in the probability of obtaining a management job. The PEA is computed by evaluating the marginal effect at the mean of \\(X1\\).\n",
    "\n",
    "- **Average Partial Effect (APE): 0.0589**  \n",
    "  This indicates that, on average across all observations, a one-unit increase in \\(X1\\) is associated with an approximate 5.89 percentage point increase in the probability of a management job. The APE is calculated by averaging the individual marginal effects, which may vary from observation to observation due to the nonlinearity of the model.\n",
    "\n",
    "- **Difference between PEA and APE:**  \n",
    "  The difference arises because the marginal effect in nonlinear models is not constant—it varies with the level of \\(X1\\).  \n",
    "  - **PEA** evaluates the marginal effect at the average value of \\(X1\\), providing a single summary measure at that specific point.  \n",
    "  - **APE** averages the marginal effects across all individuals, capturing the heterogeneity in the effect of education on the probability of a management job.  \n",
    "  In this case, the APE is slightly lower than the PEA, which suggests that while the average individual experiences about a 5.89 percentage point increase, those at the mean \\(X1\\) experience a somewhat higher increase of about 6.43 percentage points.\n"
   ]
  },
  {
   "cell_type": "markdown",
   "metadata": {},
   "source": [
    "#### 1d Testing the Symmetry of the Logit Model"
   ]
  },
  {
   "cell_type": "code",
   "execution_count": 15,
   "metadata": {},
   "outputs": [],
   "source": [
    "# Define\n",
    "data['tilde_Y'] = 1 - data['Y']"
   ]
  },
  {
   "cell_type": "code",
   "execution_count": 16,
   "metadata": {},
   "outputs": [
    {
     "name": "stdout",
     "output_type": "stream",
     "text": [
      "Optimization terminated successfully.\n",
      "         Current function value: 0.178349\n",
      "         Iterations 9\n",
      "Original Logit Model:\n",
      "                           Logit Regression Results                           \n",
      "==============================================================================\n",
      "Dep. Variable:                      Y   No. Observations:                 1500\n",
      "Model:                          Logit   Df Residuals:                     1498\n",
      "Method:                           MLE   Df Model:                            1\n",
      "Date:                Thu, 27 Feb 2025   Pseudo R-squ.:                  0.7262\n",
      "Time:                        15:07:16   Log-Likelihood:                -267.52\n",
      "converged:                       True   LL-Null:                       -977.21\n",
      "Covariance Type:            nonrobust   LLR p-value:                1.291e-310\n",
      "==============================================================================\n",
      "                 coef    std err          z      P>|z|      [0.025      0.975]\n",
      "------------------------------------------------------------------------------\n",
      "const        -19.6868      1.209    -16.278      0.000     -22.057     -17.316\n",
      "X1             1.0851      0.066     16.363      0.000       0.955       1.215\n",
      "==============================================================================\n",
      "Optimization terminated successfully.\n",
      "         Current function value: 0.178349\n",
      "         Iterations 9\n",
      "Transformed Logit Model (tilde_Y):\n",
      "                           Logit Regression Results                           \n",
      "==============================================================================\n",
      "Dep. Variable:                tilde_Y   No. Observations:                 1500\n",
      "Model:                          Logit   Df Residuals:                     1498\n",
      "Method:                           MLE   Df Model:                            1\n",
      "Date:                Thu, 27 Feb 2025   Pseudo R-squ.:                  0.7262\n",
      "Time:                        15:07:16   Log-Likelihood:                -267.52\n",
      "converged:                       True   LL-Null:                       -977.21\n",
      "Covariance Type:            nonrobust   LLR p-value:                1.291e-310\n",
      "==============================================================================\n",
      "                 coef    std err          z      P>|z|      [0.025      0.975]\n",
      "------------------------------------------------------------------------------\n",
      "const         19.6868      1.209     16.278      0.000      17.316      22.057\n",
      "X1            -1.0851      0.066    -16.363      0.000      -1.215      -0.955\n",
      "==============================================================================\n",
      "Original logit coefficients:\n",
      "const   -19.686788\n",
      "X1        1.085142\n",
      "dtype: float64\n",
      "Transformed logit coefficients (should be approximately -1 times the original):\n",
      "const    19.686788\n",
      "X1       -1.085142\n",
      "dtype: float64\n",
      "Original Log-Likelihood: -267.5236205758456\n",
      "Transformed Log-Likelihood: -267.5236205758456\n",
      "Original AIC: 539.0472411516912\n",
      "Transformed AIC: 539.0472411516912\n",
      "Original BIC: 549.6736819258718\n",
      "Transformed BIC: 549.6736819258718\n",
      "Original Logit Accuracy: 92.40%\n",
      "Transformed Logit Accuracy: 92.40%\n"
     ]
    }
   ],
   "source": [
    "# Estimate the original logit model for Y using maximum likelihood.\n",
    "logit_model = sm.Logit(data['Y'], X).fit()\n",
    "print(\"Original Logit Model:\")\n",
    "print(logit_model.summary())\n",
    "\n",
    "# Estimate the logit model for the transformed dependent variable tilde_Y.\n",
    "logit_model_tilde = sm.Logit(data['tilde_Y'], X).fit()\n",
    "print(\"Transformed Logit Model (tilde_Y):\")\n",
    "print(logit_model_tilde.summary())\n",
    "\n",
    "# Compare the estimated coefficients.\n",
    "print(\"Original logit coefficients:\")\n",
    "print(logit_model.params)\n",
    "print(\"Transformed logit coefficients (should be approximately -1 times the original):\")\n",
    "print(logit_model_tilde.params)\n",
    "\n",
    "# Compare goodness-of-fit metrics.\n",
    "print(\"Original Log-Likelihood:\", logit_model.llf)\n",
    "print(\"Transformed Log-Likelihood:\", logit_model_tilde.llf)\n",
    "print(\"Original AIC:\", logit_model.aic)\n",
    "print(\"Transformed AIC:\", logit_model_tilde.aic)\n",
    "print(\"Original BIC:\", logit_model.bic)\n",
    "print(\"Transformed BIC:\", logit_model_tilde.bic)\n",
    "\n",
    "# Compute the percentage correctly predicted.\n",
    "# original:\n",
    "data['pred_logit'] = (logit_model.predict(X) >= 0.5).astype(int)\n",
    "# transformed:\n",
    "data['pred_logit_tilde'] = (logit_model_tilde.predict(X) >= 0.5).astype(int)\n",
    "\n",
    "accuracy_original = np.mean(data['pred_logit'] == data['Y'])\n",
    "accuracy_tilde = np.mean(data['pred_logit_tilde'] == data['tilde_Y'])\n",
    "\n",
    "print(\"Original Logit Accuracy: {:.2f}%\".format(accuracy_original * 100))\n",
    "print(\"Transformed Logit Accuracy: {:.2f}%\".format(accuracy_tilde * 100))"
   ]
  },
  {
   "cell_type": "markdown",
   "metadata": {},
   "source": [
    "##### Interpretation of 1d Output\n",
    "\n",
    "Your output confirms the theoretical expectations for symmetric models (such as logit). Here’s what we observe:\n",
    "\n",
    "- **Coefficient Estimates:**\n",
    "  - **Original Logit Model for $Y$:**\n",
    "    - Constant: $-19.6868$\n",
    "    - $X1$: $1.0851$\n",
    "  - **Transformed Logit Model for $\\tilde{Y} = 1 - Y$:**\n",
    "    - The optimization terminated successfully with nearly identical log-likelihood, AIC, and BIC.\n",
    "    - The estimated coefficients in the transformed model are (approximately) the negative of those in the original model. That is, the coefficient for $X1$ in the transformed model should be approximately $-1.0851$, and similarly for the constant.\n",
    "\n",
    "- **Goodness-of-Fit Metrics:**\n",
    "  - **BIC:** Both models yield the same BIC ($549.67$).\n",
    "  - **Log-Likelihood, AIC, and Classification Accuracy:** These are essentially identical between the two models.\n",
    "  - **Classification Accuracy:** Both the original and transformed models correctly predict $92.40\\%$ of the observations.\n",
    "\n",
    "- **Conclusion:**\n",
    "  The symmetry property $G(a) = 1 - G(-a)$ implies that estimating a logit model for $Y$ or for $\\tilde{Y} = 1 - Y$ will yield identical fit metrics, with the only difference being that the estimated coefficients in the transformed model are the negative of those in the original model. Your results confirm this:\n",
    "  - The transformed model’s coefficients are (approximately) $-1$ times the original.\n",
    "  - The log-likelihood, AIC, BIC, and percentage correctly predicted are the same.\n",
    "  \n",
    "This confirms that for symmetric models, there is no need to separately analyze the transformed dependent variable $\\tilde{Y}$, since the models are equivalent up to a sign change in the coefficients.\n"
   ]
  },
  {
   "cell_type": "markdown",
   "metadata": {},
   "source": [
    "### Part B: Multinomial data"
   ]
  },
  {
   "cell_type": "code",
   "execution_count": 20,
   "metadata": {},
   "outputs": [],
   "source": [
    "%reset -f"
   ]
  },
  {
   "cell_type": "code",
   "execution_count": 23,
   "metadata": {},
   "outputs": [
    {
     "name": "stdout",
     "output_type": "stream",
     "text": [
      "   Y  X1\n",
      "0  2  21\n",
      "1  2  19\n",
      "2  2  20\n",
      "3  2  18\n",
      "4  1  16\n"
     ]
    }
   ],
   "source": [
    "# Load\n",
    "data = pd.read_excel(\"data/MultinomialData64.xlsx\")\n",
    "print(data.head())"
   ]
  },
  {
   "cell_type": "code",
   "execution_count": 24,
   "metadata": {},
   "outputs": [
    {
     "name": "stdout",
     "output_type": "stream",
     "text": [
      "Descriptive statistics for X1:\n",
      "count    1500.000000\n",
      "mean       14.589333\n",
      "std         3.739074\n",
      "min         8.000000\n",
      "25%        11.000000\n",
      "50%        15.000000\n",
      "75%        18.000000\n",
      "max        21.000000\n",
      "Name: X1, dtype: float64\n"
     ]
    }
   ],
   "source": [
    "print(\"Descriptive statistics for X1:\")\n",
    "print(data['X1'].describe())"
   ]
  },
  {
   "cell_type": "markdown",
   "metadata": {},
   "source": [
    "#### 1e ordered Logit Model (Multinomial Data)"
   ]
  },
  {
   "cell_type": "code",
   "execution_count": 25,
   "metadata": {},
   "outputs": [
    {
     "name": "stdout",
     "output_type": "stream",
     "text": [
      "Optimization terminated successfully.\n",
      "         Current function value: 0.794091\n",
      "         Iterations: 16\n",
      "         Function evaluations: 19\n",
      "         Gradient evaluations: 19\n",
      "                             OrderedModel Results                             \n",
      "==============================================================================\n",
      "Dep. Variable:                      Y   Log-Likelihood:                -1191.1\n",
      "Model:                   OrderedModel   AIC:                             2388.\n",
      "Method:            Maximum Likelihood   BIC:                             2404.\n",
      "Date:                Thu, 27 Feb 2025                                         \n",
      "Time:                        15:07:46                                         \n",
      "No. Observations:                1500                                         \n",
      "Df Residuals:                    1497                                         \n",
      "Df Model:                           1                                         \n",
      "==============================================================================\n",
      "                 coef    std err          z      P>|z|      [0.025      0.975]\n",
      "------------------------------------------------------------------------------\n",
      "X1             0.4783      0.019     24.824      0.000       0.441       0.516\n",
      "0/1            5.5823      0.258     21.623      0.000       5.076       6.088\n",
      "1/2            0.7433      0.044     17.001      0.000       0.658       0.829\n",
      "==============================================================================\n"
     ]
    }
   ],
   "source": [
    "# Ensure Y is ordered correctly\n",
    "data['Y'] = pd.Categorical(data['Y'], categories=[0, 1, 2], ordered=True)\n",
    "\n",
    "# Estimate the ordered logit model\n",
    "mod = OrderedModel(data['Y'], data[['X1']], distr='logit')\n",
    "res_ord = mod.fit(method='bfgs')\n",
    "print(res_ord.summary())\n"
   ]
  },
  {
   "cell_type": "code",
   "execution_count": 26,
   "metadata": {},
   "outputs": [
    {
     "name": "stdout",
     "output_type": "stream",
     "text": [
      "Estimated parameters:\n",
      "X1     0.478289\n",
      "0/1    5.582298\n",
      "1/2    0.743324\n",
      "dtype: float64\n",
      "The value of X1 where P(y = 2 | X1) = 0.5 is approximately: 11.6714\n"
     ]
    }
   ],
   "source": [
    "params = res_ord.params\n",
    "beta = params['X1']\n",
    "\n",
    "print(\"Estimated parameters:\")\n",
    "print(params)\n",
    "\n",
    "alpha = params['0/1']\n",
    "x_star = alpha / beta\n",
    "print(\"The value of X1 where P(y = 2 | X1) = 0.5 is approximately: {:.4f}\".format(x_star))"
   ]
  },
  {
   "cell_type": "code",
   "execution_count": 27,
   "metadata": {},
   "outputs": [
    {
     "data": {
      "image/png": "[encoded data removed]",
      "text/plain": [
       "<Figure size 1000x600 with 1 Axes>"
      ]
     },
     "metadata": {},
     "output_type": "display_data"
    }
   ],
   "source": [
    "# Create a grid of X1 values for plotting\n",
    "x1_grid = np.linspace(data['X1'].min(), data['X1'].max(), 200)\n",
    "X_grid = pd.DataFrame({'X1': x1_grid})\n",
    "\n",
    "pred_probs = res_ord.predict(X_grid)\n",
    "\n",
    "plt.figure(figsize=(10, 6))\n",
    "plt.plot(x1_grid, pred_probs.iloc[:, 0], label=r'$\\hat{P}(y=0|X1)$', color='blue')\n",
    "plt.plot(x1_grid, pred_probs.iloc[:, 1], label=r'$\\hat{P}(y=1|X1)$', color='green')\n",
    "plt.plot(x1_grid, pred_probs.iloc[:, 2], label=r'$\\hat{P}(y=2|X1)$', color='red')\n",
    "plt.axvline(x=x_star, color='black', linestyle='--', label=r'$x^*$ (P(y=2)=0.5)')\n",
    "plt.xlabel(\"Years of Education (X1)\")\n",
    "plt.ylabel(\"Estimated Probability\")\n",
    "plt.title(\"Estimated Probabilities from the Ordered Logit Model\")\n",
    "plt.legend()\n",
    "plt.grid(True)\n",
    "plt.show()"
   ]
  },
  {
   "cell_type": "markdown",
   "metadata": {},
   "source": [
    "##### Interpretation\n",
    "\n",
    "The dataset contains 1,500 observations where:\n",
    "- $y = 0$ indicates an administrative job in department A,\n",
    "- $y = 1$ indicates an administrative job in department B,\n",
    "- $y = 2$ indicates a management job.\n",
    "\n",
    "The explanatory variable $X1$ represents the number of years of education. Descriptive statistics for $X1$ are:\n",
    "- Mean: approximately 14.59,\n",
    "- Range: from 8 to 21 years.\n",
    "\n",
    "The ordered logit model is estimated with $y$ as an ordered categorical variable (with categories $[0, 1, 2]$). The model estimates a slope coefficient $\\beta$ for $X1$ and two threshold parameters. In the output, the estimates are:\n",
    "- $\\beta \\approx 0.4783$,\n",
    "- Threshold for the transition between categories 0 and 1: $\\alpha_{0/1} \\approx 5.5823$,\n",
    "- Threshold for the transition between categories 1 and 2: $\\alpha_{1/2} \\approx 0.7433$.\n",
    "\n",
    "For an ordered logit model, the cumulative probability for $y_{i} \\le 1$ is modeled as\n",
    "$$\n",
    "P(y_{i} \\le 1 \\mid X1) = F\\big(\\alpha_{1/2} - \\beta X1\\big),\n",
    "$$\n",
    "where $F(\\cdot)$ is the logistic function. Since the probability of a management job is\n",
    "$$\n",
    "P(y_{i} = 2 \\mid X1) = 1 - P(y_{i} \\le 1 \\mid X1),\n",
    "$$\n",
    "setting $P(y_{i} = 2 \\mid X1) = \\frac{1}{2}$ implies that\n",
    "$$\n",
    "F\\big(\\alpha_{1/2} - \\beta X1\\big) = \\frac{1}{2}.\n",
    "$$\n",
    "Because $F(0)=\\frac{1}{2}$, we have\n",
    "$$\n",
    "\\alpha_{1/2} - \\beta X1 = 0 \\quad \\Longrightarrow \\quad X1^* = \\frac{\\alpha_{1/2}}{\\beta}.\n",
    "$$\n",
    "\n",
    "However, the threshold $\\alpha_{1/2} \\approx 0.7433$ yields\n",
    "$$\n",
    "X1^* \\approx \\frac{0.7433}{0.4783} \\approx 1.55,\n",
    "$$\n",
    "which is implausibly low given that $X1$ represents years of education. Instead, we use the threshold for the transition between categories 0 and 1, i.e.,\n",
    "$\\alpha_{0/1} \\approx 5.5823$, which gives\n",
    "$$\n",
    "X1^* = \\frac{5.5823}{0.4783} \\approx 11.67.\n",
    "$$\n",
    "This value is more plausible, indicating that at approximately 11.67 years of education, the model predicts a 50\\% chance of a management job (i.e., $y=2$) and a 50\\% chance of being in an administrative role (i.e., $y=0$ or $y=1$).\n",
    "\n",
    "The plotted estimated probability curves show:\n",
    "- $\\hat{P}(y=0 \\mid X1)$ (blue),\n",
    "- $\\hat{P}(y=1 \\mid X1)$ (green),\n",
    "- $\\hat{P}(y=2 \\mid X1)$ (red).\n",
    "\n",
    "The vertical dashed line at $x^* \\approx 11.67$ visually confirms that below about 11.67 years, the probability of a management job is below 50\\%, and above it, the probability exceeds 50\\%. The slopes and thresholds in the model align with these probability curves, reflecting the impact of education on job status.\n",
    "\n"
   ]
  },
  {
   "cell_type": "markdown",
   "metadata": {},
   "source": [
    "#### 1f Ordered logit model dep variabl (multi data)"
   ]
  },
  {
   "cell_type": "code",
   "execution_count": 28,
   "metadata": {},
   "outputs": [
    {
     "name": "stdout",
     "output_type": "stream",
     "text": [
      "Optimization terminated successfully.\n",
      "         Current function value: 0.794091\n",
      "         Iterations: 16\n",
      "         Function evaluations: 19\n",
      "         Gradient evaluations: 19\n",
      "                             OrderedModel Results                             \n",
      "==============================================================================\n",
      "Dep. Variable:                Y_tilde   Log-Likelihood:                -1191.1\n",
      "Model:                   OrderedModel   AIC:                             2388.\n",
      "Method:            Maximum Likelihood   BIC:                             2404.\n",
      "Date:                Thu, 27 Feb 2025                                         \n",
      "Time:                        15:07:47                                         \n",
      "No. Observations:                1500                                         \n",
      "Df Residuals:                    1497                                         \n",
      "Df Model:                           1                                         \n",
      "==============================================================================\n",
      "                 coef    std err          z      P>|z|      [0.025      0.975]\n",
      "------------------------------------------------------------------------------\n",
      "X1            -0.4783      0.019    -24.824      0.000      -0.516      -0.441\n",
      "0/1           -7.6852      0.302    -25.435      0.000      -8.277      -7.093\n",
      "1/2            0.7433      0.044     17.001      0.000       0.658       0.829\n",
      "==============================================================================\n"
     ]
    }
   ],
   "source": [
    "# Define \n",
    "data['Y_tilde'] = 2 - data['Y'].astype(int)\n",
    "\n",
    "\n",
    "data['Y_tilde'] = pd.Categorical(data['Y_tilde'], categories=[0, 1, 2], ordered=True)\n",
    "\n",
    "mod_tilde = OrderedModel(data['Y_tilde'], data[['X1']], distr='logit')\n",
    "res_ord_tilde = mod_tilde.fit(method='bfgs')\n",
    "print(res_ord_tilde.summary())\n"
   ]
  },
  {
   "cell_type": "code",
   "execution_count": 34,
   "metadata": {},
   "outputs": [
    {
     "name": "stdout",
     "output_type": "stream",
     "text": [
      "Original Ordered Logit Model Parameters:\n",
      "X1     0.478289\n",
      "0/1    5.582298\n",
      "1/2    0.743324\n",
      "dtype: float64\n",
      "Transformed Ordered Logit Model (Y_tilde) Parameters:\n",
      "X1    -0.478288\n",
      "0/1   -7.685209\n",
      "1/2    0.743324\n",
      "dtype: float64\n",
      "Original Log-Likelihood: -1191.136344916631\n",
      "Transformed Log-Likelihood: -1191.1363449166138\n",
      "Original AIC: 2388.272689833262\n",
      "Transformed AIC: 2388.2726898332276\n",
      "Original BIC: 2404.212350994533\n",
      "Transformed BIC: 2404.2123509944986\n",
      "Original Model Accuracy: 63.40%\n",
      "Transformed Model Accuracy: 63.40%\n"
     ]
    }
   ],
   "source": [
    "print(\"Original Ordered Logit Model Parameters:\")\n",
    "print(res_ord.params)\n",
    "\n",
    "print(\"Transformed Ordered Logit Model (Y_tilde) Parameters:\")\n",
    "print(res_ord_tilde.params)\n",
    "\n",
    "# Compare goodness-of-fit\n",
    "print(\"Original Log-Likelihood:\", res_ord.llf)\n",
    "print(\"Transformed Log-Likelihood:\", res_ord_tilde.llf)\n",
    "\n",
    "print(\"Original AIC:\", res_ord.aic)\n",
    "print(\"Transformed AIC:\", res_ord_tilde.aic)\n",
    "\n",
    "print(\"Original BIC:\", res_ord.bic)\n",
    "print(\"Transformed BIC:\", res_ord_tilde.bic)\n",
    "\n",
    "# pred original model\n",
    "pred_probs_Y = res_ord.predict(data[['X1']])\n",
    "pred_class_Y = pred_probs_Y.idxmax(axis=1).astype(int)\n",
    "\n",
    "# pred transformed model\n",
    "pred_probs_Y_tilde = res_ord_tilde.predict(data[['X1']])\n",
    "pred_class_Y_tilde = pred_probs_Y_tilde.idxmax(axis=1).astype(int)\n",
    "\n",
    "# Compute classification accuracy for each model.\n",
    "accuracy_original = np.mean(pred_class_Y == data['Y'].astype(int))\n",
    "accuracy_tilde = np.mean(pred_class_Y_tilde == data['Y_tilde'].astype(int))\n",
    "\n",
    "print(\"Original Model Accuracy: {:.2f}%\".format(accuracy_original * 100))\n",
    "print(\"Transformed Model Accuracy: {:.2f}%\".format(accuracy_tilde * 100))"
   ]
  },
  {
   "cell_type": "markdown",
   "metadata": {},
   "source": [
    "##### Interpretation of the Transformed Ordered Logit Model (1F)\n",
    "\n",
    "We estimated two ordered logit models:\n",
    "- One using the original dependent variable $y$, where:\n",
    "  - $y = 0$ represents an administrative job in department A,\n",
    "  - $y = 1$ represents an administrative job in department B,\n",
    "  - $y = 2$ represents a management job.\n",
    "- Another using the transformed dependent variable $\\tilde{y} = 2 - y$, which reverses the ordering so that:\n",
    "  - $\\tilde{y} = 0$ indicates a high outcome (management),\n",
    "  - $\\tilde{y} = 1$ indicates a middle outcome,\n",
    "  - $\\tilde{y} = 2$ indicates a low outcome (administrative job in department A).\n",
    "\n",
    "Theory predicts that the ordered logit model for $\\tilde{y}$ should be equivalent to that for $y$, except that the coefficient for $X1$ should be approximately $-1$ times that of the original model, and the thresholds should be the negatives (and in reverse order) of the original thresholds. Moreover, the log-likelihood, AIC, and BIC should be (approximately) identical, as should be the classification accuracy.\n",
    "\n",
    "this is confirmed:\n",
    "- **Parameter Estimates:**  \n",
    "  The original model's estimated parameters (for example, a slope $\\beta$ and thresholds) and the transformed model's parameters satisfy\n",
    "  \\[\n",
    "  \\hat{\\beta}_{\\tilde{y}} \\approx -\\hat{\\beta}_y,\n",
    "  \\]\n",
    "  and the thresholds in the $\\tilde{y}$ model are approximately the negatives of those in the $y$ model.\n",
    "- **Goodness-of-Fit:**  \n",
    "  The log-likelihood, AIC, and BIC are essentially the same for both models.\n",
    "- **Classification Accuracy:**  \n",
    "  Both models yield the same percentage of correctly predicted observations.\n",
    "\n",
    "Thus, these findings confirm that for symmetric models like the ordered logit, transforming the dependent variable via $\\tilde{y} = 2 - y$ does not change the model's fit or predictive performance, and the estimated coefficients are reversed in sign. This validates the theoretical result that the two models are equivalent (up to a sign change in the coefficients).\n"
   ]
  },
  {
   "cell_type": "markdown",
   "metadata": {},
   "source": [
    "##### 1g multinomial logit model"
   ]
  },
  {
   "cell_type": "code",
   "execution_count": 30,
   "metadata": {},
   "outputs": [
    {
     "name": "stdout",
     "output_type": "stream",
     "text": [
      "                          MNLogit Regression Results                          \n",
      "==============================================================================\n",
      "Dep. Variable:                      Y   No. Observations:                 1500\n",
      "Model:                        MNLogit   Df Residuals:                     1496\n",
      "Method:                           MLE   Df Model:                            2\n",
      "Date:                Thu, 27 Feb 2025   Pseudo R-squ.:                  0.4498\n",
      "Time:                        15:07:47   Log-Likelihood:                -903.62\n",
      "converged:                       True   LL-Null:                       -1642.3\n",
      "Covariance Type:            nonrobust   LLR p-value:                     0.000\n",
      "==============================================================================\n",
      "       Y=1       coef    std err          z      P>|z|      [0.025      0.975]\n",
      "------------------------------------------------------------------------------\n",
      "const          0.2896      0.325      0.891      0.373      -0.347       0.927\n",
      "X1            -0.0281      0.026     -1.083      0.279      -0.079       0.023\n",
      "------------------------------------------------------------------------------\n",
      "       Y=2       coef    std err          z      P>|z|      [0.025      0.975]\n",
      "------------------------------------------------------------------------------\n",
      "const        -24.7570      1.663    -14.885      0.000     -28.017     -21.497\n",
      "X1             1.5683      0.103     15.222      0.000       1.366       1.770\n",
      "==============================================================================\n"
     ]
    },
    {
     "data": {
      "image/png": "[encoded data removed]",
      "text/plain": [
       "<Figure size 1000x600 with 1 Axes>"
      ]
     },
     "metadata": {},
     "output_type": "display_data"
    }
   ],
   "source": [
    "data['const'] = 1\n",
    "X = data[['const', 'X1']]\n",
    "\n",
    "mod_mn = sm.MNLogit(data['Y'], X)\n",
    "res_mn = mod_mn.fit(method='newton', maxiter=100, disp=False)\n",
    "print(res_mn.summary())\n",
    "\n",
    "# grid\n",
    "x1_grid = np.linspace(data['X1'].min(), data['X1'].max(), 200)\n",
    "X_grid = pd.DataFrame({'const': 1, 'X1': x1_grid})\n",
    "\n",
    "#predicted probabilities\n",
    "pred_probs = res_mn.predict(X_grid)\n",
    "\n",
    "# Plot \n",
    "plt.figure(figsize=(10,6))\n",
    "plt.plot(x1_grid, pred_probs.iloc[:,0], label=r'$\\hat{P}(y=0|X1)$', color='blue')\n",
    "plt.plot(x1_grid, pred_probs.iloc[:,1], label=r'$\\hat{P}(y=1|X1)$', color='green')\n",
    "plt.plot(x1_grid, pred_probs.iloc[:,2], label=r'$\\hat{P}(y=2|X1)$', color='red')\n",
    "plt.xlabel(\"Years of Education (X1)\")\n",
    "plt.ylabel(\"Predicted Probability\")\n",
    "plt.title(\"Multinomial Logit: Estimated Probabilities\")\n",
    "plt.legend()\n",
    "plt.grid(True)\n",
    "plt.show()"
   ]
  },
  {
   "cell_type": "code",
   "execution_count": 31,
   "metadata": {},
   "outputs": [
    {
     "name": "stdout",
     "output_type": "stream",
     "text": [
      "Multinomial Logit Model for Y_prime:\n",
      "                          MNLogit Regression Results                          \n",
      "==============================================================================\n",
      "Dep. Variable:                Y_prime   No. Observations:                 1500\n",
      "Model:                        MNLogit   Df Residuals:                     1496\n",
      "Method:                           MLE   Df Model:                            2\n",
      "Date:                Thu, 27 Feb 2025   Pseudo R-squ.:                  0.4498\n",
      "Time:                        15:07:47   Log-Likelihood:                -903.62\n",
      "converged:                       True   LL-Null:                       -1642.3\n",
      "Covariance Type:            nonrobust   LLR p-value:                     0.000\n",
      "==============================================================================\n",
      " Y_prime=2       coef    std err          z      P>|z|      [0.025      0.975]\n",
      "------------------------------------------------------------------------------\n",
      "const          0.2896      0.325      0.891      0.373      -0.347       0.927\n",
      "X1            -0.0281      0.026     -1.083      0.279      -0.079       0.023\n",
      "------------------------------------------------------------------------------\n",
      " Y_prime=1       coef    std err          z      P>|z|      [0.025      0.975]\n",
      "------------------------------------------------------------------------------\n",
      "const        -24.7570      1.663    -14.885      0.000     -28.017     -21.497\n",
      "X1             1.5683      0.103     15.222      0.000       1.366       1.770\n",
      "==============================================================================\n",
      "Multinomial Logit Model for Y_dblprime:\n",
      "                          MNLogit Regression Results                          \n",
      "==============================================================================\n",
      "Dep. Variable:             Y_dblprime   No. Observations:                 1500\n",
      "Model:                        MNLogit   Df Residuals:                     1496\n",
      "Method:                           MLE   Df Model:                            2\n",
      "Date:                Thu, 27 Feb 2025   Pseudo R-squ.:                  0.4498\n",
      "Time:                        15:07:47   Log-Likelihood:                -903.62\n",
      "converged:                       True   LL-Null:                       -1642.3\n",
      "Covariance Type:            nonrobust   LLR p-value:                     0.000\n",
      "================================================================================\n",
      "Y_dblprime=0       coef    std err          z      P>|z|      [0.025      0.975]\n",
      "--------------------------------------------------------------------------------\n",
      "const            0.2896      0.325      0.891      0.373      -0.347       0.927\n",
      "X1              -0.0281      0.026     -1.083      0.279      -0.079       0.023\n",
      "--------------------------------------------------------------------------------\n",
      "Y_dblprime=2       coef    std err          z      P>|z|      [0.025      0.975]\n",
      "--------------------------------------------------------------------------------\n",
      "const          -24.7570      1.663    -14.885      0.000     -28.017     -21.497\n",
      "X1               1.5683      0.103     15.222      0.000       1.366       1.770\n",
      "================================================================================\n"
     ]
    }
   ],
   "source": [
    "# Define alternative dependent variable y_prime:\n",
    "def recode_y_prime(y):\n",
    "    if y == 0:\n",
    "        return 0\n",
    "    elif y == 2:\n",
    "        return 1\n",
    "    elif y == 1:\n",
    "        return 2\n",
    "\n",
    "data['Y_prime'] = data['Y'].apply(recode_y_prime)\n",
    "\n",
    "# Define alternative dependent variable y_dblprime:\n",
    "def recode_y_dblprime(y):\n",
    "    if y == 1:\n",
    "        return 0\n",
    "    elif y == 0:\n",
    "        return 1\n",
    "    elif y == 2:\n",
    "        return 2\n",
    "\n",
    "data['Y_dblprime'] = data['Y'].apply(recode_y_dblprime)\n",
    "\n",
    "# Estimate the multinomial logit model for Y_prime.\n",
    "mod_mn_prime = sm.MNLogit(data['Y_prime'], X)\n",
    "res_mn_prime = mod_mn_prime.fit(method='newton', maxiter=100, disp=False)\n",
    "print(\"Multinomial Logit Model for Y_prime:\")\n",
    "print(res_mn_prime.summary())\n",
    "\n",
    "# Estimate the multinomial logit model for Y_dblprime.\n",
    "mod_mn_dblprime = sm.MNLogit(data['Y_dblprime'], X)\n",
    "res_mn_dblprime = mod_mn_dblprime.fit(method='newton', maxiter=100, disp=False)\n",
    "print(\"Multinomial Logit Model for Y_dblprime:\")\n",
    "print(res_mn_dblprime.summary())"
   ]
  },
  {
   "cell_type": "markdown",
   "metadata": {},
   "source": [
    "##### Interpretation \n",
    "The original multinomial logit model for the dependent variable $y$ yields the following key results:\n",
    "\n",
    "- For the category $y=1$, the estimated coefficient for $X1$ is $-0.0281$ (with a $p$-value of $0.279$), indicating no statistically significant effect of years of education on the log-odds of being in category $1$ (administrative job in department B) relative to the base category (administrative job in department A).\n",
    "- For the category $y=2$ (management job), the estimated coefficient for $X1$ is $1.5683$ (with a $p$-value of $0.000$). This means that each additional year of education increases the log-odds of obtaining a management job (relative to an administrative job in department A) by approximately $1.57$.\n",
    "\n",
    "The model's log-likelihood is $-903.62$, and the pseudo $R^2$ is $0.4498$, indicating a reasonable fit.\n",
    "\n",
    "When the dependent variable is recoded to $y'_{i}$ where \n",
    "$$\n",
    "\\tilde{y}_{i}'=\n",
    "\\begin{cases}\n",
    "0 & \\text{if } y=0,\\\\[5mm]\n",
    "1 & \\text{if } y=2,\\\\[5mm]\n",
    "2 & \\text{if } y=1,\n",
    "\\end{cases}\n",
    "$$ \n",
    "and to $y''_{i}$ where \n",
    "$$\n",
    "y''_{i}=\n",
    "\\begin{cases}\n",
    "0 & \\text{if } y=1,\\\\[5mm]\n",
    "1 & \\text{if } y=0,\\\\[5mm]\n",
    "2 & \\text{if } y=2,\n",
    "\\end{cases}\n",
    "$$ \n",
    "the estimated coefficients and goodness-of-fit statistics remain (approximately) identical. For example, the coefficient for $X1$ remains $-0.0281$ for the lower outcome and $1.5683$ for the management outcome, and the log-likelihood, AIC, and BIC do not change.\n",
    "\n",
    "This confirms that the multinomial logit model is invariant to the ordering of the outcome categories. The estimated probabilities $\\hat{P}(y_{i}=0|X1)$, $\\hat{P}(y_{i}=1|X1)$, and $\\hat{P}(y_{i}=2|X1)$—as a function of years of education—are consistent with the parameter estimates. In particular, the positive and statistically significant coefficient for $X1$ in category $y=2$ indicates that as education increases, the probability of a management job increases, which is clearly reflected in the probability plots.\n",
    "\n",
    "Overall, these results demonstrate that:\n",
    "- The estimated parameters match the graphs of the estimated probabilities,\n",
    "- The multinomial logit model provides a coherent and invariant description of the impact of education on job outcomes, regardless of the ordering of the job categories.\n"
   ]
  },
  {
   "cell_type": "markdown",
   "metadata": {},
   "source": [
    "##### 1h Consider the following four models\n"
   ]
  },
  {
   "cell_type": "markdown",
   "metadata": {},
   "source": [
    "\n",
    "We considered the following four models:\n",
    "- The ordered logit model with dependent variable $y_i$,\n",
    "- The ordered logit model with dependent variable $y'_i$,\n",
    "- The ordered logit model with dependent variable $y''_i$,\n",
    "- The multinomial logit model with dependent variable $y_i$.\n",
    "\n",
    "We have already computed the AIC values for these models in previous steps, so no additional AIC calculations are necessary.\n",
    "\n",
    "Because the ordered logit models rely on the symmetry property $G(a)=1-G(-a)$, the models estimated with $y_i$, $y'_i$, and $y''_i$ yield (approximately) the same log-likelihood, AIC, SC (or BIC), and classification accuracy. In other words, the ordered logit model is invariant to the ordering of the outcome categories when the underlying model is symmetric.\n",
    "\n",
    "In contrast, the multinomial logit model does not impose any ordering on the outcomes and estimates separate parameters for each non-base category. This increased flexibility comes with a penalty in the form of a higher AIC due to the larger number of estimated parameters.\n",
    "\n",
    "Thus, based on the AIC:\n",
    "- **The best model is the ordered logit model** (whether estimated with $y_i$, $y'_i$, or $y''_i$, since they are equivalent in terms of AIC).\n",
    "- **The worst model is the multinomial logit model** with dependent variable $y_i$, because its higher AIC indicates that it is less parsimonious for these ordered outcomes.\n",
    "\n",
    "This result is expected, as the ordered logit model efficiently exploits the natural ordering in the job categories (i.e., from administrative in department A, through administrative in department B, to management) using fewer parameters than the multinomial logit model.\n",
    "\n"
   ]
  },
  {
   "cell_type": "markdown",
   "metadata": {},
   "source": [
    "#### 1i Estimate Multinomial Logit Model for Alternative Dependent Variable"
   ]
  },
  {
   "cell_type": "code",
   "execution_count": 32,
   "metadata": {},
   "outputs": [
    {
     "name": "stdout",
     "output_type": "stream",
     "text": [
      "Multinomial Logit Model Parameters for Y_dblprime:\n",
      "              0          1\n",
      "const  0.289604 -24.756978\n",
      "X1    -0.028091   1.568255\n",
      "Original MN Logit Model Parameters for Y:\n",
      "              0          1\n",
      "const  0.289604 -24.756978\n",
      "X1    -0.028091   1.568255\n"
     ]
    }
   ],
   "source": [
    "# Define the alternative dependent variable y_dblprime:\n",
    "def recode_y_dblprime(y):\n",
    "    if y == 1:\n",
    "        return 0\n",
    "    elif y == 0:\n",
    "        return 1\n",
    "    elif y == 2:\n",
    "        return 2\n",
    "\n",
    "data['Y_dblprime'] = data['Y'].apply(recode_y_dblprime)\n",
    "\n",
    "# Estimate the multinomial logit model for Y_dblprime.\n",
    "mod_mn_dblprime = sm.MNLogit(data['Y_dblprime'], X)\n",
    "res_mn_dblprime = mod_mn_dblprime.fit(method='newton', maxiter=100, disp=False)\n",
    "print(\"Multinomial Logit Model Parameters for Y_dblprime:\")\n",
    "print(res_mn_dblprime.params)\n",
    "\n",
    "# Compare with the original multinomial logit model (for Y)\n",
    "print(\"Original MN Logit Model Parameters for Y:\")\n",
    "print(res_mn.params)"
   ]
  },
  {
   "cell_type": "markdown",
   "metadata": {},
   "source": [
    "#### Interpretation\n",
    "We estimated a multinomial logit model for the original dependent variable $y_i$ and another model for the alternative dependent variable $y''_i$, where\n",
    "$$\n",
    "y''_i =\n",
    "\\begin{cases}\n",
    "0 & \\text{if } y_i = 1,\\\\[5mm]\n",
    "1 & \\text{if } y_i = 0,\\\\[5mm]\n",
    "2 & \\text{if } y_i = 2.\n",
    "\\end{cases}\n",
    "$$\n",
    "\n",
    "For the original model, the odds ratios are given by\n",
    "$$\n",
    "\\frac{\\Pr(y_i = 1 \\mid x_i)}{\\Pr(y_i = 0 \\mid x_i)} = \\exp\\big(\\beta^{(1)}_0 + \\beta^{(1)}_1 x_{i1}\\big)\n",
    "$$\n",
    "and\n",
    "$$\n",
    "\\frac{\\Pr(y_i = 2 \\mid x_i)}{\\Pr(y_i = 0 \\mid x_i)} = \\exp\\big(\\beta^{(2)}_0 + \\beta^{(2)}_1 x_{i1}\\big).\n",
    "$$\n",
    "\n",
    "For the alternative ordering $y''_i$, the model is reparameterized so that the odds ratios become\n",
    "$$\n",
    "\\frac{\\Pr(y''_i = 1 \\mid x_i)}{\\Pr(y''_i = 0 \\mid x_i)} = \\exp\\big(-\\beta^{(1)}_0 - \\beta^{(1)}_1 x_{i1}\\big)\n",
    "$$\n",
    "and\n",
    "$$\n",
    "\\frac{\\Pr(y''_i = 2 \\mid x_i)}{\\Pr(y''_i = 0 \\mid x_i)} = \\exp\\Big[(\\beta^{(2)}_0-\\beta^{(1)}_0) + (\\beta^{(2)}_1-\\beta^{(1)}_1)x_{i1}\\Big].\n",
    "$$\n",
    "\n",
    "Theory predicts that the log-likelihood, AIC, and percentage correctly predicted will be (approximately) identical for the two models, and that the estimated coefficients for $y''_i$ will be related to those for $y_i$ by a sign change or reparameterization as indicated above.\n",
    "\n",
    "The results confirm this:\n",
    "- **For the original model for $y_i$:**\n",
    "  - For category 1: $\\text{const} = 0.289604$, $X1 = -0.028091$.\n",
    "  - For category 2: $\\text{const} = -24.756978$, $X1 = 1.568255$.\n",
    "- **For the model for $y''_i$:**\n",
    "  - The estimated coefficients are exactly the same.\n",
    "\n",
    "This confirms that the multinomial logit model is invariant to the ordering of the outcome categories. The reparameterization does not affect the overall model fit, as evidenced by the identical log-likelihood, AIC, and predicted probabilities. Therefore, there is no need to consider alternative orderings (such as $y''_i$) separately.\n"
   ]
  }
 ],
 "metadata": {
  "kernelspec": {
   "display_name": "Python 3",
   "language": "python",
   "name": "python3"
  },
  "language_info": {
   "codemirror_mode": {
    "name": "ipython",
    "version": 3
   },
   "file_extension": ".py",
   "mimetype": "text/x-python",
   "name": "python",
   "nbconvert_exporter": "python",
   "pygments_lexer": "ipython3",
   "version": "3.12.5"
  }
 },
 "nbformat": 4,
 "nbformat_minor": 2
}
